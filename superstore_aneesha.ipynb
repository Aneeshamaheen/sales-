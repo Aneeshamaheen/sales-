{
 "cells": [
  {
   "cell_type": "code",
   "execution_count": null,
   "id": "a8fe7088",
   "metadata": {},
   "outputs": [],
   "source": [
    "import numpy as np # linear algebra\n",
    "import pandas as pd "
   ]
  },
  {
   "cell_type": "code",
   "execution_count": null,
   "id": "076522bd",
   "metadata": {},
   "outputs": [],
   "source": [
    "from dateutil.parser import parse\n",
    "import itertools\n",
    "import pandas as pd\n",
    "import numpy as np\n",
    "import seaborn as sns\n",
    "import matplotlib.pyplot as plt\n",
    "import statsmodels.api as sm\n",
    "plt.rcParams.update({'figure.figsize':(10,7),'figure.dpi':120})"
   ]
  },
  {
   "cell_type": "code",
   "execution_count": null,
   "id": "6d0b5fdf",
   "metadata": {},
   "outputs": [],
   "source": [
    "df=pd.read_csv('Superstore_2023.csv')\n",
    "df"
   ]
  },
  {
   "cell_type": "code",
   "execution_count": null,
   "id": "5938a2cb",
   "metadata": {},
   "outputs": [],
   "source": [
    "df['Category'].value_counts()"
   ]
  },
  {
   "cell_type": "code",
   "execution_count": null,
   "id": "2d51545b",
   "metadata": {},
   "outputs": [],
   "source": [
    "OS= df.loc[df['Category']=='Office Supplies']\n",
    "OS.head(5)"
   ]
  },
  {
   "cell_type": "code",
   "execution_count": null,
   "id": "ae147692",
   "metadata": {},
   "outputs": [],
   "source": [
    "print('Starting date:',OS['Order Date'].min())\n",
    "print('Ending date:',OS['Order Date'].max())"
   ]
  },
  {
   "cell_type": "code",
   "execution_count": null,
   "id": "8820e7e9",
   "metadata": {},
   "outputs": [],
   "source": [
    " #Drop unrelevant variables:\n",
    "cols = ['Row ID', 'Order ID', 'Ship Date', 'Ship Mode', 'Customer ID', 'Customer Name', 'Segment', 'Country/Region', 'City', 'State', 'Postal Code', 'Region', 'Product ID', 'Category', 'Sub-Category', 'Product Name', 'Quantity', 'Discount', 'Profit']\n",
    "\n",
    "\n",
    "OS.drop(cols, axis=1, inplace= True)\n",
    "OS"
   ]
  },
  {
   "cell_type": "code",
   "execution_count": null,
   "id": "d7b91a19",
   "metadata": {},
   "outputs": [],
   "source": [
    "### Check out missing values:\n",
    "OS.isnull().sum()"
   ]
  },
  {
   "cell_type": "code",
   "execution_count": null,
   "id": "4de50f39",
   "metadata": {},
   "outputs": [],
   "source": [
    "OS= OS.groupby('Order Date')['Sales'].sum().reset_index()\n",
    "OS.head()"
   ]
  },
  {
   "cell_type": "code",
   "execution_count": null,
   "id": "51da12e5",
   "metadata": {},
   "outputs": [],
   "source": [
    "OS['Order Date'] = pd.to_datetime(df['Order Date'], format='%d/%m/%Y %H:%M:%S')\n",
    "OS= OS.set_index('Order Date')\n",
    "OS"
   ]
  },
  {
   "cell_type": "code",
   "execution_count": null,
   "id": "0f63024d",
   "metadata": {},
   "outputs": [],
   "source": [
    "OS['Sales'].plot()\n",
    "plt.xlabel('Order Date')\n",
    "plt.ylabel('Sales')\n",
    "plt.title('Total sale over years')\n",
    "plt.show()"
   ]
  },
  {
   "cell_type": "code",
   "execution_count": null,
   "id": "8f0e57bc",
   "metadata": {},
   "outputs": [],
   "source": [
    "#create new DataFrame\n",
    "monthly_OS = pd.DataFrame()\n",
    "\n",
    "monthly_OS['Sales'] = OS['Sales'].resample('MS').mean()"
   ]
  },
  {
   "cell_type": "code",
   "execution_count": null,
   "id": "6fd231ea",
   "metadata": {},
   "outputs": [],
   "source": [
    "#plot weekly sales data\n",
    "plt.plot(monthly_OS.index, monthly_OS.Sales, linewidth=3)"
   ]
  },
  {
   "cell_type": "code",
   "execution_count": null,
   "id": "05c7613d",
   "metadata": {},
   "outputs": [],
   "source": [
    "x= monthly_OS.index\n",
    "y1= monthly_OS['Sales'].values\n",
    "\n",
    "fig, ax = plt.subplots(1, 1, figsize=(16,5), dpi= 120)\n",
    "plt.fill_between(x, y1=y1, y2=-y1, alpha=0.5, linewidth=2, color='seagreen')\n",
    "plt.ylim(-800, 800)\n",
    "plt.title('Sales (Two Side View)', fontsize=16)\n",
    "plt.hlines(y=0, xmin=np.min(monthly_OS.index), xmax=np.max(monthly_OS.index), linewidth=.5)\n",
    "plt.show()"
   ]
  },
  {
   "cell_type": "code",
   "execution_count": null,
   "id": "def98969",
   "metadata": {},
   "outputs": [],
   "source": [
    "OS['year'] = [d.year for d in OS.index]\n",
    "OS['month'] = [d.strftime('%b') for d in OS.index]\n",
    "years= OS['year'].unique()\n",
    "years"
   ]
  },
  {
   "cell_type": "code",
   "execution_count": null,
   "id": "0417959b",
   "metadata": {},
   "outputs": [],
   "source": [
    "# Draw Plot\n",
    "fig, axes = plt.subplots(1, 2, figsize=(20,7), dpi= 80)\n",
    "sns.boxplot(x='year', y='Sales', data=OS, ax=axes[0])\n",
    "sns.boxplot(x='month', y='Sales', data=OS.loc[~OS.year.isin([2014,2917]), :])\n",
    "\n",
    "# Set Title\n",
    "axes[0].set_title('Year-wise Box Plot\\n(The Trend)', fontsize=18);\n",
    "axes[1].set_title('Month-wise Box Plot\\n(The Seasonality)', fontsize=18)\n",
    "plt.show()"
   ]
  },
  {
   "cell_type": "code",
   "execution_count": null,
   "id": "5deee75e",
   "metadata": {},
   "outputs": [],
   "source": [
    "from pylab import rcParams\n",
    "rcParams['figure.figsize'] = 18, 8\n",
    "\n",
    "decomposition = sm.tsa.seasonal_decompose(monthly_OS['Sales'], model='additive')\n",
    "fig = decomposition.plot()\n",
    "plt.show()"
   ]
  },
  {
   "cell_type": "code",
   "execution_count": null,
   "id": "d02290bb",
   "metadata": {},
   "outputs": [],
   "source": [
    "#Determing rolling statistics\n",
    "moving_avg = monthly_OS.rolling(12).mean()\n",
    "moving_std= monthly_OS.rolling(12).std()\n",
    "\n"
   ]
  },
  {
   "cell_type": "code",
   "execution_count": null,
   "id": "fdf454a2",
   "metadata": {},
   "outputs": [],
   "source": [
    "#Plot rolling statistics:\n",
    "orig = plt.plot(monthly_OS, color='blue',label='Original')\n",
    "mean = plt.plot(moving_avg, color='red', label='Rolling Mean')\n",
    "std = plt.plot(moving_std, color='black', label = 'Rolling Std')\n",
    "plt.legend(loc='best')\n",
    "plt.title('Rolling Mean & Standard Deviation')\n",
    "plt.show(block=False)"
   ]
  },
  {
   "cell_type": "code",
   "execution_count": null,
   "id": "f16d20dd",
   "metadata": {},
   "outputs": [],
   "source": [
    "from statsmodels.tsa.stattools import adfuller\n",
    "print ('Results of Dickey-Fuller Test:')\n",
    "# dftest = adfuller(monthly_OS, autolag='AIC')\n",
    "dftest = adfuller(monthly_OS.iloc[:,0].values, autolag='AIC' )\n",
    "dfoutput = pd.Series(dftest[0:4], index=['Test Statistic','p-value','#Lags Used','Number of Observations Used'])\n",
    "\n",
    "for key,value in dftest[4].items():\n",
    "    dfoutput['Critical Value (%s)'%key] = value\n",
    "print (dfoutput)"
   ]
  },
  {
   "cell_type": "code",
   "execution_count": null,
   "id": "d3f5a007",
   "metadata": {},
   "outputs": [],
   "source": []
  },
  {
   "cell_type": "code",
   "execution_count": null,
   "id": "db2d380d",
   "metadata": {},
   "outputs": [],
   "source": [
    "do= pd.read_csv('Superstore_2023.csv')\n",
    "store= do.loc[do['Category']=='Office Supplies']\n",
    "cols = ['Row ID', 'Order ID', 'Ship Date', 'Ship Mode', 'Customer ID', 'Customer Name', 'Segment', 'Country/Region', 'City', 'State', 'Postal Code', 'Region', 'Product ID', 'Category', 'Sub-Category', 'Product Name', 'Quantity', 'Discount', 'Profit']\n",
    "store.drop(cols, axis=1, inplace=True)\n",
    "store"
   ]
  },
  {
   "cell_type": "code",
   "execution_count": null,
   "id": "834020e1",
   "metadata": {},
   "outputs": [],
   "source": [
    "store = store.groupby('Order Date')['Sales'].sum().reset_index()\n",
    "store"
   ]
  },
  {
   "cell_type": "code",
   "execution_count": null,
   "id": "57645540",
   "metadata": {},
   "outputs": [],
   "source": [
    "store = store.set_index('Order Date')\n",
    "store.index"
   ]
  },
  {
   "cell_type": "code",
   "execution_count": null,
   "id": "f98d663c",
   "metadata": {},
   "outputs": [],
   "source": [
    "#create new DataFrame:\n",
    "store.index = pd.to_datetime(store.index, format='%d/%m/%Y %H:%M:%S')\n",
    "y = store['Sales'].resample('MS').mean()\n"
   ]
  },
  {
   "cell_type": "code",
   "execution_count": null,
   "id": "0082b205",
   "metadata": {},
   "outputs": [],
   "source": [
    "## Lets take a log transform here for simplicity:\n",
    "ts_log = np.log(y)\n",
    "plt.plot(ts_log)"
   ]
  },
  {
   "cell_type": "code",
   "execution_count": null,
   "id": "07293d8f",
   "metadata": {},
   "outputs": [],
   "source": [
    "moving_avg = ts_log.rolling(12).mean()\n",
    "plt.plot(ts_log)\n",
    "plt.plot(moving_avg, color='red')"
   ]
  },
  {
   "cell_type": "code",
   "execution_count": null,
   "id": "20d11efe",
   "metadata": {},
   "outputs": [],
   "source": [
    "ts_log_moving_avg_diff = ts_log - moving_avg\n",
    "ts_log_moving_avg_diff.head(12)"
   ]
  },
  {
   "cell_type": "code",
   "execution_count": null,
   "id": "5069b9a4",
   "metadata": {},
   "outputs": [],
   "source": [
    "def test_stationarity(timeseries):\n",
    "    #Determing rolling statistics\n",
    "    rolmean = timeseries.rolling(12).mean()\n",
    "    rolstd = timeseries.rolling(12).std()\n",
    "\n",
    "    #Plot rolling statistics:\n",
    "    orig = plt.plot(timeseries, color='blue',label='Original')\n",
    "    mean = plt.plot(rolmean, color='red', label='Rolling Mean')\n",
    "    std = plt.plot(rolstd, color='black', label = 'Rolling Std')\n",
    "    plt.legend(loc='best')\n",
    "    plt.title('Rolling Mean & Standard Deviation')\n",
    "    plt.show(block=False)\n",
    "    print ('Results of Dickey-Fuller Test:')\n",
    "\n",
    "    #Perform Dickey-Fuller test:\n",
    "    dftest = adfuller(timeseries, autolag='AIC')\n",
    "    dfoutput = pd.Series(dftest[0:4], index=['Test Statistic','p-value','#Lags Used','Number of Observations Used'])\n",
    "    for key,value in dftest[4].items():\n",
    "        dfoutput['Critical Value (%s)'%key] = value\n",
    "    print (dfoutput)"
   ]
  },
  {
   "cell_type": "code",
   "execution_count": null,
   "id": "fd2be3c5",
   "metadata": {},
   "outputs": [],
   "source": [
    "ts_log_moving_avg_diff.dropna(inplace=True)\n",
    "test_stationarity(ts_log_moving_avg_diff)"
   ]
  },
  {
   "cell_type": "code",
   "execution_count": null,
   "id": "9e71d6c9",
   "metadata": {},
   "outputs": [],
   "source": [
    "expwighted_avg = ts_log.ewm(halflife=12).mean()\n",
    "\n",
    "plt.plot(ts_log)\n",
    "plt.plot(expwighted_avg, color='red')"
   ]
  },
  {
   "cell_type": "code",
   "execution_count": null,
   "id": "842a5d50",
   "metadata": {},
   "outputs": [],
   "source": []
  },
  {
   "cell_type": "code",
   "execution_count": null,
   "id": "0c33cb28",
   "metadata": {},
   "outputs": [],
   "source": [
    "ts_log_ewma_diff = ts_log - expwighted_avg\n",
    "test_stationarity(ts_log_ewma_diff)"
   ]
  },
  {
   "cell_type": "code",
   "execution_count": null,
   "id": "b621f6d6",
   "metadata": {},
   "outputs": [],
   "source": []
  },
  {
   "cell_type": "code",
   "execution_count": null,
   "id": "cf8d7a8c",
   "metadata": {},
   "outputs": [],
   "source": [
    "ts_log_diff = ts_log - ts_log.shift()\n",
    "plt.plot(ts_log_diff)"
   ]
  },
  {
   "cell_type": "code",
   "execution_count": null,
   "id": "32ed2314",
   "metadata": {},
   "outputs": [],
   "source": []
  },
  {
   "cell_type": "code",
   "execution_count": null,
   "id": "fb824295",
   "metadata": {},
   "outputs": [],
   "source": [
    "ts_log_diff.dropna(inplace=True)\n",
    "test_stationarity(ts_log_diff)"
   ]
  },
  {
   "cell_type": "code",
   "execution_count": null,
   "id": "0112091c",
   "metadata": {},
   "outputs": [],
   "source": []
  },
  {
   "cell_type": "code",
   "execution_count": null,
   "id": "9bc4735e",
   "metadata": {},
   "outputs": [],
   "source": [
    "from pylab import rcParams\n",
    "rcParams['figure.figsize'] = 18, 8\n",
    "\n",
    "decomposition = sm.tsa.seasonal_decompose(ts_log, model='additive')\n",
    "fig = decomposition.plot()\n",
    "plt.show()"
   ]
  },
  {
   "cell_type": "code",
   "execution_count": null,
   "id": "da9529ae",
   "metadata": {},
   "outputs": [],
   "source": []
  },
  {
   "cell_type": "code",
   "execution_count": null,
   "id": "8b3556cc",
   "metadata": {},
   "outputs": [],
   "source": [
    "from statsmodels.tsa.seasonal import seasonal_decompose\n",
    "decomposition = seasonal_decompose(ts_log)\n",
    "residual = decomposition.resid\n",
    "\n",
    "ts_log_decompose = residual\n",
    "ts_log_decompose.dropna(inplace=True)\n",
    "test_stationarity(ts_log_decompose)\n"
   ]
  },
  {
   "cell_type": "code",
   "execution_count": null,
   "id": "71f1b76e",
   "metadata": {},
   "outputs": [],
   "source": []
  },
  {
   "cell_type": "code",
   "execution_count": null,
   "id": "50c9a73c",
   "metadata": {},
   "outputs": [],
   "source": [
    "\n",
    "\n",
    "train= y[:40]\n",
    "test= y[40:]\n",
    "\n",
    "\n",
    "\n"
   ]
  },
  {
   "cell_type": "code",
   "execution_count": null,
   "id": "8ebc2f34",
   "metadata": {},
   "outputs": [],
   "source": [
    "pip install pmdarima"
   ]
  },
  {
   "cell_type": "code",
   "execution_count": null,
   "id": "5e131003",
   "metadata": {},
   "outputs": [],
   "source": [
    "# !pip install pmdarima\n",
    "import pmdarima\n",
    "\n",
    "from pmdarima import auto_arima"
   ]
  },
  {
   "cell_type": "code",
   "execution_count": null,
   "id": "638a9359",
   "metadata": {},
   "outputs": [],
   "source": [
    " auto_arima(train, test='adf',seasonal=True, trace=True, error_action='ignore', suppress_warnings=True)\n"
   ]
  },
  {
   "cell_type": "code",
   "execution_count": null,
   "id": "1d1385a8",
   "metadata": {},
   "outputs": [],
   "source": []
  },
  {
   "cell_type": "code",
   "execution_count": null,
   "id": "2296e8b8",
   "metadata": {},
   "outputs": [],
   "source": [
    "\n",
    "auto_arima(y,test='adf',       # use adftest to find optimal 'd'\n",
    "                       # maximum p and q\n",
    "                                 # frequency of series\n",
    "                       # let model determine 'd'\n",
    "                      seasonal=True,   # No Seasonality\n",
    "\n",
    "\n",
    "                      trace=True,\n",
    "                      error_action='ignore',\n",
    "                      suppress_warnings=True,\n",
    "                      stepwise=True)"
   ]
  },
  {
   "cell_type": "code",
   "execution_count": null,
   "id": "ccc61a06",
   "metadata": {},
   "outputs": [],
   "source": []
  },
  {
   "cell_type": "code",
   "execution_count": null,
   "id": "7381091f",
   "metadata": {},
   "outputs": [],
   "source": [
    "from statsmodels.tsa.arima.model import ARIMA\n",
    "model=ARIMA(train, order=(1,1,1)).fit()\n",
    "model.summary()"
   ]
  },
  {
   "cell_type": "code",
   "execution_count": null,
   "id": "bbf3feb5",
   "metadata": {},
   "outputs": [],
   "source": []
  },
  {
   "cell_type": "code",
   "execution_count": null,
   "id": "8e0b87d8",
   "metadata": {},
   "outputs": [],
   "source": [
    "pred= model.predict(start=len(train), end=(len(y)-1),dynamic=True)\n",
    "pred"
   ]
  },
  {
   "cell_type": "code",
   "execution_count": null,
   "id": "76e1112b",
   "metadata": {},
   "outputs": [],
   "source": [
    "test"
   ]
  },
  {
   "cell_type": "code",
   "execution_count": null,
   "id": "c09e233b",
   "metadata": {},
   "outputs": [],
   "source": []
  },
  {
   "cell_type": "code",
   "execution_count": null,
   "id": "7e66e81e",
   "metadata": {},
   "outputs": [],
   "source": [
    "from  sklearn.metrics import mean_absolute_percentage_error\n",
    "\n",
    "mape= mean_absolute_percentage_error(test, pred)\n",
    "\n",
    "print('MAPE: %f' %mape)"
   ]
  },
  {
   "cell_type": "code",
   "execution_count": null,
   "id": "e5c3525c",
   "metadata": {},
   "outputs": [],
   "source": [
    "train.plot(legend=True, label='Train', figsize=(10,6))\n",
    "\n",
    "test.plot(legend=True, label= 'Test')\n",
    "\n",
    "pred.plot(legend=True, label='ARIMA prediction')"
   ]
  },
  {
   "cell_type": "code",
   "execution_count": null,
   "id": "19be91cb",
   "metadata": {},
   "outputs": [],
   "source": []
  },
  {
   "cell_type": "code",
   "execution_count": null,
   "id": "608c988d",
   "metadata": {},
   "outputs": [],
   "source": [
    "# import statsmodels.api as sm\n",
    "# sm.tsa.statespace.SARIMAX(train,order=(1, 1, 1),seasonal_order=(1,1,1,12)).fit()\n",
    "\n",
    "# results=model1.fit()\n",
    "# results.summary()\n",
    "\n",
    "import statsmodels.api as sm\n",
    "model1=sm.tsa.statespace.SARIMAX(train,order=(1, 1, 1),seasonal_order=(1,1,1,12))\n",
    "\n",
    "results=model1.fit()\n",
    "results.summary()"
   ]
  },
  {
   "cell_type": "code",
   "execution_count": null,
   "id": "69daf6f8",
   "metadata": {},
   "outputs": [],
   "source": []
  },
  {
   "cell_type": "code",
   "execution_count": null,
   "id": "e503dbb4",
   "metadata": {},
   "outputs": [],
   "source": [
    "pre=results.predict(start= len(train), end= (len(y)-1),dynamic=True)\n",
    "pre"
   ]
  },
  {
   "cell_type": "code",
   "execution_count": null,
   "id": "9b4631ce",
   "metadata": {},
   "outputs": [],
   "source": [
    "train.plot(legend=True, label='Train', figsize=(10,6))\n",
    "\n",
    "test.plot(legend=True, label= 'Test')\n",
    "\n",
    "pre.plot(legend=True, label='SARIMAX prediction')"
   ]
  },
  {
   "cell_type": "code",
   "execution_count": null,
   "id": "c9521eee",
   "metadata": {},
   "outputs": [],
   "source": []
  },
  {
   "cell_type": "code",
   "execution_count": null,
   "id": "0909ff19",
   "metadata": {},
   "outputs": [],
   "source": [
    "mape= mean_absolute_percentage_error(test, pre)\n",
    "\n",
    "print('MAPE1: %f' %mape)"
   ]
  },
  {
   "cell_type": "code",
   "execution_count": null,
   "id": "5e35678c",
   "metadata": {},
   "outputs": [],
   "source": []
  },
  {
   "cell_type": "code",
   "execution_count": null,
   "id": "4b5d81c9",
   "metadata": {},
   "outputs": [],
   "source": [
    "future_sale= results.predict(start= len(y), end=(len(y)+12))\n",
    "future_sale"
   ]
  },
  {
   "cell_type": "code",
   "execution_count": null,
   "id": "ae65f2a8",
   "metadata": {
    "scrolled": true
   },
   "outputs": [],
   "source": [
    "y.plot(legend=True, label='Current Sale', figsize=(10,6))\n",
    "\n",
    "future_sale.plot(legend= True, label='Future Sale')\n"
   ]
  },
  {
   "cell_type": "code",
   "execution_count": null,
   "id": "4787eca0",
   "metadata": {},
   "outputs": [],
   "source": []
  },
  {
   "cell_type": "code",
   "execution_count": null,
   "id": "d5613371",
   "metadata": {},
   "outputs": [],
   "source": [
    "import numpy as np\n",
    "import pandas as pd\n",
    "import matplotlib.pyplot as plt\n",
    "import seaborn as sns\n",
    "from tensorflow import keras\n",
    "#import the Keras layers\n",
    "from tensorflow.keras.models import Sequential\n",
    "from tensorflow.keras.layers import Embedding,Dense, Dropout, LSTM, Dropout,Activation\n",
    "from sklearn.preprocessing import MinMaxScaler\n",
    "from sklearn.metrics import mean_squared_error\n",
    "from sklearn.utils import shuffle"
   ]
  },
  {
   "cell_type": "code",
   "execution_count": null,
   "id": "6da20048",
   "metadata": {},
   "outputs": [],
   "source": [
    "# Loading data\n",
    "data = pd.read_csv('D:\\\\transcend\\\\Aneesha-store\\\\Superstore_2023.csv')\n",
    "data.info()\n"
   ]
  },
  {
   "cell_type": "code",
   "execution_count": null,
   "id": "20be970b",
   "metadata": {},
   "outputs": [],
   "source": [
    "data.head()"
   ]
  },
  {
   "cell_type": "code",
   "execution_count": null,
   "id": "8c9cf16e",
   "metadata": {},
   "outputs": [],
   "source": [
    "store = data.groupby('Order Date')['Sales'].sum().reset_index()\n",
    "store"
   ]
  },
  {
   "cell_type": "code",
   "execution_count": null,
   "id": "36b0aca2",
   "metadata": {},
   "outputs": [],
   "source": [
    "# Scaling the values in the range of 0 to 1\n",
    "scaler = MinMaxScaler(feature_range = (0, 1))\n",
    "scaled_price = scaler.fit_transform(store.loc[:, 'Sales'].values.reshape(-1, 1))\n",
    "scaled_price"
   ]
  },
  {
   "cell_type": "code",
   "execution_count": null,
   "id": "7a60684e",
   "metadata": {},
   "outputs": [],
   "source": [
    "# Splitting dataset in the ratio of 75:25 for training and test\n",
    "train_size = int(store.shape[0] * 0.75)\n",
    "train, test = scaled_price[0:train_size, :], scaled_price[train_size:store.shape[0], :]\n",
    "print(\"Number of entries (training set, test set): \" + str((len(train), len(test))))\n",
    "# Output: Number of entries (training set, test set): (1872, 624)\n"
   ]
  },
  {
   "cell_type": "code",
   "execution_count": null,
   "id": "c555eef1",
   "metadata": {},
   "outputs": [],
   "source": []
  },
  {
   "cell_type": "code",
   "execution_count": null,
   "id": "cd5b0bc2",
   "metadata": {},
   "outputs": [],
   "source": [
    "def create_dataset(scaled_price, window_size=1):\n",
    "    data_X, data_Y = [], []\n",
    "    for i in range(len(scaled_price) - window_size - 1):\n",
    "        a = scaled_price[i:(i + window_size), 0]\n",
    "        data_X.append(a)\n",
    "        data_Y.append(scaled_price[i + window_size, 0])\n",
    "    return(np.array(data_X), np.array(data_Y))\n"
   ]
  },
  {
   "cell_type": "code",
   "execution_count": null,
   "id": "cecb6329",
   "metadata": {},
   "outputs": [],
   "source": [
    "# Create test and training sets for one-step-ahead regression.\n",
    "window_size = 50\n",
    "train_X, train_Y = create_dataset(train, window_size)\n",
    "test_X, test_Y = create_dataset(test, window_size)\n",
    "print(\"Original training data shape:\")\n",
    "print(train_X.shape)\n",
    "# Reshape the input data into appropriate form for Keras.\n",
    "train_X = np.reshape(train_X, (train_X.shape[0], 1, train_X.shape[1]))\n",
    "test_X = np.reshape(test_X, (test_X.shape[0], 1, test_X.shape[1]))\n",
    "print(\"New training data shape:\")\n",
    "print(train_X.shape)\n",
    "\"\"\"\n",
    "Output:\n",
    "Original training data shape:\n",
    "(1868, 3)\n",
    "New training data shape:\n",
    "(1868, 1, 3)\n",
    "\"\"\"\n"
   ]
  },
  {
   "cell_type": "code",
   "execution_count": null,
   "id": "24d20345",
   "metadata": {},
   "outputs": [],
   "source": [
    "# Designing the LSTM model\n",
    "# model = Sequential()\n",
    "# model.add(LSTM(260, input_shape = (1, window_size)))\n",
    "# model.add(Dense(1))\n",
    "\n",
    "model = Sequential()\n",
    "model.add(LSTM(100, return_sequences=True, input_shape=(train_X.shape[1], train_X.shape[2])))\n",
    "model.add(Dropout(0.2))\n",
    "model.add(LSTM(50))\n",
    "model.add(Dropout(0.1))\n",
    "model.add(Dense(1))\n",
    "model.compile(loss='mean_squared_error', optimizer='adam')\n",
    "# fit network\n",
    "history = model.fit(train_X, train_Y, epochs=10, batch_size=20, validation_data=(test_X, test_Y), verbose=1, shuffle=False)\n",
    "# summarize history for loss\n",
    "plt.plot(history.history['loss'])\n",
    "plt.plot(history.history['val_loss'])\n",
    "plt.title('model loss')\n",
    "plt.ylabel('loss')\n",
    "plt.xlabel('epoch')\n",
    "plt.legend(['train', 'test'], loc='upper right')\n",
    "plt.show()\n"
   ]
  },
  {
   "cell_type": "code",
   "execution_count": null,
   "id": "e334eed3",
   "metadata": {},
   "outputs": [],
   "source": [
    "# make a prediction\n",
    "yhat = model.predict(test_X, verbose=0)\n",
    "rmse = np.sqrt(mean_squared_error(test_Y, yhat))\n",
    "print('Test RMSE: %.3f' % rmse)"
   ]
  },
  {
   "cell_type": "code",
   "execution_count": null,
   "id": "7acc7df9",
   "metadata": {},
   "outputs": [],
   "source": [
    "## time steps, every step is one hour (you can easily convert the time step to the actual time index)\n",
    "## for a demonstration purpose, I only compare the predictions in 200 hours.\n",
    "\n",
    "aa=[x for x in range(200)]\n",
    "plt.plot(aa, test_Y[:200], marker='.', label=\"actual\")\n",
    "plt.plot(aa, yhat[:200], 'r', label=\"prediction\")\n",
    "plt.ylabel('Sales', size=15)\n",
    "plt.xlabel('Order Time', size=15)\n",
    "plt.legend(fontsize=13)\n",
    "plt.show()"
   ]
  },
  {
   "cell_type": "code",
   "execution_count": null,
   "id": "6f67c6fc",
   "metadata": {},
   "outputs": [],
   "source": []
  },
  {
   "cell_type": "code",
   "execution_count": null,
   "id": "6a5da9dd",
   "metadata": {},
   "outputs": [],
   "source": [
    "# Compiling the model\n",
    "model.compile(loss = \"mean_squared_error\", optimizer = \"adam\")\n"
   ]
  },
  {
   "cell_type": "code",
   "execution_count": null,
   "id": "f362d62c",
   "metadata": {},
   "outputs": [],
   "source": [
    "# Training the model\n",
    "model.fit(train_X, train_Y, epochs=70, batch_size=20,verbose=10, shuffle=False)\n"
   ]
  },
  {
   "cell_type": "code",
   "execution_count": null,
   "id": "570e3dcd",
   "metadata": {},
   "outputs": [],
   "source": []
  },
  {
   "cell_type": "code",
   "execution_count": null,
   "id": "30371be9",
   "metadata": {},
   "outputs": [],
   "source": [
    "def predict_and_score(model, X, Y):\n",
    "    # Make predictions on the original scale of the data.\n",
    "    predicted = scaler.inverse_transform(model.predict(X))\n",
    "    # Prepare Y data to also be on the original scale for interpretability.\n",
    "    orig_data = scaler.inverse_transform([Y])\n",
    "    # Calculate RMSE.\n",
    "    score = np.sqrt(mean_squared_error(orig_data[0], predicted[:, 0]))\n",
    "    return(score, predicted)\n"
   ]
  },
  {
   "cell_type": "code",
   "execution_count": null,
   "id": "8a2ba9e8",
   "metadata": {},
   "outputs": [],
   "source": [
    "rmse_train, train_predict = predict_and_score(model, train_X, train_Y)\n",
    "rmse_test, test_predict = predict_and_score(model, test_X, test_Y)\n",
    "print(\"Training data score: %.2f RMSE\" % rmse_train)\n",
    "print(\"Test data score: %.2f RMSE\" % rmse_test)\n"
   ]
  },
  {
   "cell_type": "code",
   "execution_count": null,
   "id": "38faf025",
   "metadata": {},
   "outputs": [],
   "source": []
  },
  {
   "cell_type": "code",
   "execution_count": null,
   "id": "a30e05ae",
   "metadata": {},
   "outputs": [],
   "source": [
    "# Create the plot for predicted and the training data.\n",
    "plt.figure(figsize = (15, 5))\n",
    "plt.plot(scaler.inverse_transform(scaled_price), label = \"True value\")\n",
    "plt.plot(train_predict, label = \"Training set prediction\")\n",
    "plt.plot(test_predict, label = \"Test set prediction\")\n",
    "plt.xlabel(\"Days\")\n",
    "plt.ylabel(\"Average Price\")\n",
    "plt.title(\"Comparison true vs. predicted training / test\")\n",
    "plt.legend()\n",
    "plt.show()\n"
   ]
  }
 ],
 "metadata": {
  "kernelspec": {
   "display_name": "Python 3 (ipykernel)",
   "language": "python",
   "name": "python3"
  },
  "language_info": {
   "codemirror_mode": {
    "name": "ipython",
    "version": 3
   },
   "file_extension": ".py",
   "mimetype": "text/x-python",
   "name": "python",
   "nbconvert_exporter": "python",
   "pygments_lexer": "ipython3",
   "version": "3.10.13"
  }
 },
 "nbformat": 4,
 "nbformat_minor": 5
}
